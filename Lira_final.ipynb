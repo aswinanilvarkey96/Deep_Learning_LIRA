{
  "nbformat": 4,
  "nbformat_minor": 0,
  "metadata": {
    "colab": {
      "name": "Lira_final.ipynb",
      "provenance": [],
      "collapsed_sections": []
    },
    "kernelspec": {
      "name": "python3",
      "display_name": "Python 3"
    },
    "language_info": {
      "name": "python"
    },
    "accelerator": "GPU"
  },
  "cells": [
    {
      "cell_type": "code",
      "metadata": {
        "colab": {
          "base_uri": "https://localhost:8080/"
        },
        "id": "wc3GZn6FX4a9",
        "outputId": "f9edc2e3-e0e0-4181-d3c7-dda5538eec22"
      },
      "source": [
        "%matplotlib inline\n",
        "import matplotlib\n",
        "import numpy as np\n",
        "import matplotlib.pyplot as plt\n",
        "import torch\n",
        "!pip3 install pickle5\n",
        "import pickle5 as pickle\n",
        "!pip3 install --upgrade pandas==1.3.4\n",
        "import pandas as pd\n",
        "import torch\n",
        "import torchvision\n",
        "import torchvision.transforms as transforms\n",
        "import torch.nn as nn\n",
        "import torch.nn.functional as F\n",
        "import torch.optim as optim\n",
        "\n",
        "from torch.autograd import Variable\n",
        "\n",
        "from torch.nn import Linear, Conv2d, BatchNorm2d, MaxPool2d, Dropout2d\n",
        "from torch.nn.functional import relu, elu, relu6, sigmoid, tanh, softmax\n",
        "\n",
        "from google.colab import drive\n",
        "drive.mount('/content/drive')\n",
        "\n",
        "!ls drive/'My Drive'\n",
        "\n",
        "drive_path = 'drive/My Drive/'\n",
        "drive_path = 'drive/MyDrive/Deep Learning/Lira'"
      ],
      "execution_count": 5,
      "outputs": [
        {
          "output_type": "stream",
          "name": "stdout",
          "text": [
            "Requirement already satisfied: pickle5 in /usr/local/lib/python3.7/dist-packages (0.0.12)\n",
            "Requirement already satisfied: pandas==1.3.4 in /usr/local/lib/python3.7/dist-packages (1.3.4)\n",
            "Requirement already satisfied: python-dateutil>=2.7.3 in /usr/local/lib/python3.7/dist-packages (from pandas==1.3.4) (2.8.2)\n",
            "Requirement already satisfied: pytz>=2017.3 in /usr/local/lib/python3.7/dist-packages (from pandas==1.3.4) (2018.9)\n",
            "Requirement already satisfied: numpy>=1.17.3 in /usr/local/lib/python3.7/dist-packages (from pandas==1.3.4) (1.19.5)\n",
            "Requirement already satisfied: six>=1.5 in /usr/local/lib/python3.7/dist-packages (from python-dateutil>=2.7.3->pandas==1.3.4) (1.15.0)\n",
            "Drive already mounted at /content/drive; to attempt to forcibly remount, call drive.mount(\"/content/drive\", force_remount=True).\n",
            "'02450_Book - Copy.pdf'\n",
            " 02450_Book.pdf\n",
            " 02450Toolbox_Python\n",
            "'Alfa Laval'\n",
            " Art\n",
            " aswinanilvarkey-cv.pdf\n",
            " Badminton\n",
            "'Colab Notebooks'\n",
            " Coronapas.pdf\n",
            " CV\n",
            "'Deep Learning'\n",
            " Denmark\n",
            " Documents\n",
            " DTU\n",
            "'Event Feedback.gform'\n",
            " Expenditure.gsheet\n",
            "'Flight Ticket.pdf'\n",
            "'Garden Fresh'\n",
            " Germany\n",
            " LCD2\n",
            " Marksheet-1.pdf\n",
            "'NDA Aswin.gdoc'\n",
            "'NDA Aswin.pdf'\n",
            " photo\n",
            "'QNet Ltd __ Receipt.pdf'\n",
            " R\n",
            "'Rental Agreement.tif'\n",
            " Smartphone\n",
            "'SRM Institute of Science and Technology__SRM Feekart.pdf'\n",
            " TN_KL-CHN_DF_0209_264448.pdf\n",
            "'Untitled spreadsheet.gsheet'\n",
            "'Vestas Badminton.gform'\n",
            "'Vestas Badminton (Responses).gsheet'\n",
            "'Vestas Badminton Weekly Session.gform'\n",
            "'Vestas Badminton Weekly Session (Responses).gsheet'\n",
            " VID_52190412_020837_341.mp4\n",
            " Visa\n",
            " VN20200831_173740.mp4\n"
          ]
        }
      ]
    },
    {
      "cell_type": "code",
      "metadata": {
        "colab": {
          "base_uri": "https://localhost:8080/",
          "height": 190
        },
        "id": "vkbJVhOIYHWH",
        "outputId": "258e246b-9818-4851-90dc-c797a4642af1"
      },
      "source": [
        "with open(drive_path+'/Copy of dataset_smol_boi.pickle', 'rb') as f:\n",
        "    data_org = pickle.load(f)"
      ],
      "execution_count": 6,
      "outputs": [
        {
          "output_type": "error",
          "ename": "AttributeError",
          "evalue": "ignored",
          "traceback": [
            "\u001b[0;31m---------------------------------------------------------------------------\u001b[0m",
            "\u001b[0;31mAttributeError\u001b[0m                            Traceback (most recent call last)",
            "\u001b[0;32m<ipython-input-6-35a2be5adcc0>\u001b[0m in \u001b[0;36m<module>\u001b[0;34m()\u001b[0m\n\u001b[1;32m      1\u001b[0m \u001b[0;32mwith\u001b[0m \u001b[0mopen\u001b[0m\u001b[0;34m(\u001b[0m\u001b[0mdrive_path\u001b[0m\u001b[0;34m+\u001b[0m\u001b[0;34m'/Copy of dataset_smol_boi.pickle'\u001b[0m\u001b[0;34m,\u001b[0m \u001b[0;34m'rb'\u001b[0m\u001b[0;34m)\u001b[0m \u001b[0;32mas\u001b[0m \u001b[0mf\u001b[0m\u001b[0;34m:\u001b[0m\u001b[0;34m\u001b[0m\u001b[0;34m\u001b[0m\u001b[0m\n\u001b[0;32m----> 2\u001b[0;31m     \u001b[0mdata_org\u001b[0m \u001b[0;34m=\u001b[0m \u001b[0mpickle\u001b[0m\u001b[0;34m.\u001b[0m\u001b[0mload\u001b[0m\u001b[0;34m(\u001b[0m\u001b[0mf\u001b[0m\u001b[0;34m)\u001b[0m\u001b[0;34m\u001b[0m\u001b[0;34m\u001b[0m\u001b[0m\n\u001b[0m",
            "\u001b[0;31mAttributeError\u001b[0m: Can't get attribute 'new_block' on <module 'pandas.core.internals.blocks' from '/usr/local/lib/python3.7/dist-packages/pandas/core/internals/blocks.py'>"
          ]
        }
      ]
    },
    {
      "cell_type": "code",
      "metadata": {
        "id": "HuHmlhyDYI84"
      },
      "source": [
        "\n",
        "# def moving_average(x, w):\n",
        "#     return np.convolve(x, np.ones(w), 'valid') / w\n",
        "\n",
        "# train_dataset = moving_average(data['GM.acc.xyz.z'][8],10)\n",
        "\n",
        "# test_dataset = moving_average(data['GM.acc.xyz.z'][1615],10)\n",
        "\n",
        "train_dataset = [[],[]]\n",
        "test_dataset = [[],[]]\n",
        "iri_mean = []\n",
        "data = data_org['train']\n",
        "data = data.sort_values(by=['IRI_mean'])\n",
        "\n",
        "for i in range(int(len(data['IRI_Sequence']))):\n",
        "    mean = np.mean(data['IRI_Sequence'].iloc[i])\n",
        "    iri_mean.append(mean)\n",
        "    if mean <4:\n",
        "        train_dataset[0].append(mean)\n",
        "        train_dataset[1].append(data['z_smooth'].iloc[i])\n",
        "    elif mean > 6:\n",
        "        test_dataset[0].append(mean)\n",
        "        test_dataset[1].append(data['z_smooth'].iloc[i])\n",
        "\n",
        "train_np = np.asarray(train_dataset,dtype=object).T\n",
        "test_np = np.asarray(test_dataset,dtype=object).T\n",
        "df_train = pd.DataFrame(np.asarray(train_dataset,dtype=object).T,columns=['iri','z'])\n",
        "\n",
        "num_batches_train = len(df_train)"
      ],
      "execution_count": 3,
      "outputs": []
    },
    {
      "cell_type": "code",
      "metadata": {
        "colab": {
          "base_uri": "https://localhost:8080/"
        },
        "id": "u33i1XksZtVA",
        "outputId": "600671f4-fc18-46d3-d3e0-fe55c9f9f1b1"
      },
      "source": [
        "def create_dataset(df):\n",
        "  sequences = df.astype(np.float32).to_numpy().tolist()\n",
        "  dataset = [torch.tensor(s).unsqueeze(1).float() for s in sequences]\n",
        "  n_seq, seq_len, n_features = torch.stack(dataset).shape\n",
        "  return dataset, seq_len+1, n_features\n",
        "\n",
        "print('train dataset',train_np.shape)\n",
        "lstm_df_train = pd.DataFrame([np.append(*row) for row in train_np])\n",
        "lstm_df_train = lstm_df_train.drop(lstm_df_train.columns[1], axis=1)\n",
        "print(lstm_df_train.shape)\n",
        "lstm_df_train = lstm_df_train.loc[:50,1:]\n",
        "train_dataset, seq_len, n_features = create_dataset(lstm_df_train)\n",
        "print('train dataset',lstm_df_train.shape)\n",
        "lstm_df_test = pd.DataFrame([np.append(*row) for row in test_np])\n",
        "lstm_df_test = lstm_df_test.drop(lstm_df_test.columns[1], axis=1)\n",
        "lstm_df_test = lstm_df_test.loc[:40,1:]\n",
        "print(lstm_df_test.shape)\n",
        "test_dataset, seq_len_test, n_features_test = create_dataset(lstm_df_test)\n",
        "\n"
      ],
      "execution_count": 8,
      "outputs": [
        {
          "output_type": "stream",
          "name": "stdout",
          "text": [
            "train dataset (979, 2)\n",
            "(979, 3065)\n",
            "train dataset (51, 3064)\n",
            "(41, 3064)\n"
          ]
        }
      ]
    },
    {
      "cell_type": "code",
      "metadata": {
        "colab": {
          "base_uri": "https://localhost:8080/"
        },
        "id": "v4lWtxdVapZU",
        "outputId": "fec74efb-6b40-4c16-b627-4b919bc1dc93"
      },
      "source": [
        "# working model\n",
        "device = torch.device(\"cuda\" if torch.cuda.is_available() else \"cpu\")\n",
        "class Autoencoder(nn.Module):\n",
        "    def __init__(self):\n",
        "        super(Autoencoder, self).__init__()\n",
        "        self.seq_len = seq_len\n",
        "        self.lstm1 = nn.LSTM(1, 100, 1, batch_first = True)\n",
        "        self.lstm2 = nn.LSTM(100, 50, 1, batch_first = True)\n",
        "        self.lstm3 = nn.LSTM(50, 100, 1, batch_first = True)\n",
        "        \n",
        "        self.l_out = nn.Linear(in_features=100,\n",
        "                            out_features=1,\n",
        "                            bias=False)\n",
        "        \n",
        "    def forward(self, x):\n",
        "        print(x.size())\n",
        "        x, (h, _) = self.lstm1(x)\n",
        "        print(x.size())\n",
        "        x, (h, _) = self.lstm2(x)\n",
        "        x, (h, _) = self.lstm3(x)\n",
        "        \n",
        "        x = x.view(-1, self.lstm3.hidden_size)        \n",
        "        x = self.l_out(x)\n",
        "        \n",
        "        return x\n",
        "\n",
        "model = Autoencoder()\n",
        "\n",
        "model = model.to(device)\n",
        "print(model)\n"
      ],
      "execution_count": 39,
      "outputs": [
        {
          "output_type": "stream",
          "name": "stdout",
          "text": [
            "Autoencoder(\n",
            "  (lstm1): LSTM(1, 100, batch_first=True)\n",
            "  (lstm2): LSTM(100, 50, batch_first=True)\n",
            "  (lstm3): LSTM(50, 100, batch_first=True)\n",
            "  (l_out): Linear(in_features=100, out_features=1, bias=False)\n",
            ")\n"
          ]
        }
      ]
    },
    {
      "cell_type": "code",
      "metadata": {
        "colab": {
          "base_uri": "https://localhost:8080/",
          "height": 1000
        },
        "id": "CsL0vcqubUjD",
        "outputId": "8bb281b8-a6bc-42b8-9a1e-442250861eee"
      },
      "source": [
        "# LSTM 100m\n",
        "        \n",
        "def train_model(model, train_dataset, n_epochs):\n",
        "  optimizer = torch.optim.Adam(model.parameters(), lr=3e-4)\n",
        "  criterion = nn.MSELoss()\n",
        "  history = dict(train=[], val=[])\n",
        "  best_loss = 10000.0\n",
        "  output = []\n",
        "  for epoch in range(1, n_epochs + 1):\n",
        "    model = model.train()\n",
        "    train_losses = []      \n",
        "    optimizer.zero_grad()\n",
        "    seq_true = torch.Tensor(train_np[0,1]).cuda()\n",
        "    seq_true = seq_true.to(device)\n",
        "    seq_true = seq_true.reshape((1, seq_len, 1))\n",
        "    seq_pred = model(seq_true)\n",
        "    loss = criterion(seq_pred, seq_true)\n",
        "    loss.backward()\n",
        "    optimizer.step()\n",
        "    train_losses.append(loss.item())\n",
        "    train_loss = np.mean(train_losses)\n",
        "    history['train'].append(train_loss)\n",
        "    print(f'Epoch {epoch}: train loss {train_loss}')\n",
        "    if(epoch == n_epochs):\n",
        "      output.append(seq_pred.cpu().detach().numpy())\n",
        "  return model.eval(), history, output\n",
        "\n",
        "model, history, pred = train_model(\n",
        "  model,\n",
        "  train_dataset,\n",
        "  n_epochs=100\n",
        ")\n",
        "\n",
        "\n",
        "plt.figure(figsize=[20,5])\n",
        "plt.plot(train_np[0,1][:])\n",
        "plt.plot(pred[0])\n",
        "plt.legend(['Actual Data','Autoencoder Output'])\n",
        "plt.title('LSTM Autoencoder')"
      ],
      "execution_count": 11,
      "outputs": [
        {
          "output_type": "stream",
          "name": "stderr",
          "text": [
            "/usr/local/lib/python3.7/dist-packages/torch/nn/modules/loss.py:520: UserWarning: Using a target size (torch.Size([1, 3065, 1])) that is different to the input size (torch.Size([3065, 1])). This will likely lead to incorrect results due to broadcasting. Please ensure they have the same size.\n",
            "  return F.mse_loss(input, target, reduction=self.reduction)\n"
          ]
        },
        {
          "output_type": "stream",
          "name": "stdout",
          "text": [
            "Epoch 1: train loss 0.0720793753862381\n",
            "Epoch 2: train loss 0.07086361199617386\n",
            "Epoch 3: train loss 0.06605436652898788\n",
            "Epoch 4: train loss 0.06368494033813477\n",
            "Epoch 5: train loss 0.061831165105104446\n",
            "Epoch 6: train loss 0.059013158082962036\n",
            "Epoch 7: train loss 0.05630775913596153\n",
            "Epoch 8: train loss 0.0546044185757637\n",
            "Epoch 9: train loss 0.05303608998656273\n",
            "Epoch 10: train loss 0.051111675798892975\n",
            "Epoch 11: train loss 0.04921730235219002\n",
            "Epoch 12: train loss 0.047753676772117615\n",
            "Epoch 13: train loss 0.04662046581506729\n",
            "Epoch 14: train loss 0.04531072825193405\n",
            "Epoch 15: train loss 0.04382739216089249\n",
            "Epoch 16: train loss 0.0425589382648468\n",
            "Epoch 17: train loss 0.0415167361497879\n",
            "Epoch 18: train loss 0.040439192205667496\n",
            "Epoch 19: train loss 0.03921975940465927\n",
            "Epoch 20: train loss 0.03800659626722336\n",
            "Epoch 21: train loss 0.036977168172597885\n",
            "Epoch 22: train loss 0.036010950803756714\n",
            "Epoch 23: train loss 0.03492778539657593\n",
            "Epoch 24: train loss 0.033836524933576584\n",
            "Epoch 25: train loss 0.03288464993238449\n",
            "Epoch 26: train loss 0.032006487250328064\n",
            "Epoch 27: train loss 0.031083596870303154\n",
            "Epoch 28: train loss 0.03014684095978737\n",
            "Epoch 29: train loss 0.02931167557835579\n",
            "Epoch 30: train loss 0.02855193242430687\n",
            "Epoch 31: train loss 0.027754034847021103\n",
            "Epoch 32: train loss 0.02695830725133419\n",
            "Epoch 33: train loss 0.026247961446642876\n",
            "Epoch 34: train loss 0.02557125873863697\n",
            "Epoch 35: train loss 0.024867704138159752\n",
            "Epoch 36: train loss 0.024182766675949097\n",
            "Epoch 37: train loss 0.023561537265777588\n",
            "Epoch 38: train loss 0.022948632016777992\n",
            "Epoch 39: train loss 0.022320769727230072\n",
            "Epoch 40: train loss 0.02174091711640358\n",
            "Epoch 41: train loss 0.021195026114583015\n",
            "Epoch 42: train loss 0.02063431590795517\n",
            "Epoch 43: train loss 0.02009362168610096\n",
            "Epoch 44: train loss 0.01959317922592163\n",
            "Epoch 45: train loss 0.01909124106168747\n",
            "Epoch 46: train loss 0.018596677109599113\n",
            "Epoch 47: train loss 0.01814117655158043\n",
            "Epoch 48: train loss 0.017685696482658386\n",
            "Epoch 49: train loss 0.017234891653060913\n",
            "Epoch 50: train loss 0.016815021634101868\n",
            "Epoch 51: train loss 0.016399040818214417\n",
            "Epoch 52: train loss 0.015992430970072746\n",
            "Epoch 53: train loss 0.015611274167895317\n",
            "Epoch 54: train loss 0.0152316614985466\n",
            "Epoch 55: train loss 0.014863770455121994\n",
            "Epoch 56: train loss 0.014516671188175678\n",
            "Epoch 57: train loss 0.014169148169457912\n",
            "Epoch 58: train loss 0.013840571977198124\n",
            "Epoch 59: train loss 0.013519934378564358\n",
            "Epoch 60: train loss 0.013203766196966171\n",
            "Epoch 61: train loss 0.012904004193842411\n",
            "Epoch 62: train loss 0.0126046659424901\n",
            "Epoch 63: train loss 0.012317968532443047\n",
            "Epoch 64: train loss 0.01203650888055563\n",
            "Epoch 65: train loss 0.011760308407247066\n",
            "Epoch 66: train loss 0.011494241654872894\n",
            "Epoch 67: train loss 0.011229896917939186\n",
            "Epoch 68: train loss 0.010976145975291729\n",
            "Epoch 69: train loss 0.010724877938628197\n",
            "Epoch 70: train loss 0.010481864213943481\n",
            "Epoch 71: train loss 0.010244050063192844\n",
            "Epoch 72: train loss 0.01001141220331192\n",
            "Epoch 73: train loss 0.00978611595928669\n",
            "Epoch 74: train loss 0.009564388543367386\n",
            "Epoch 75: train loss 0.009350238367915154\n",
            "Epoch 76: train loss 0.009139261208474636\n",
            "Epoch 77: train loss 0.008935376070439816\n",
            "Epoch 78: train loss 0.008734825998544693\n",
            "Epoch 79: train loss 0.00854041613638401\n",
            "Epoch 80: train loss 0.00834984052926302\n",
            "Epoch 81: train loss 0.008164243772625923\n",
            "Epoch 82: train loss 0.007982952520251274\n",
            "Epoch 83: train loss 0.00780580285936594\n",
            "Epoch 84: train loss 0.007633099798113108\n",
            "Epoch 85: train loss 0.0074639213271439075\n",
            "Epoch 86: train loss 0.007299406453967094\n",
            "Epoch 87: train loss 0.0071385991759598255\n",
            "Epoch 88: train loss 0.006984689272940159\n",
            "Epoch 89: train loss 0.00684403907507658\n",
            "Epoch 90: train loss 0.006764890626072884\n",
            "Epoch 91: train loss 0.0069238306023180485\n",
            "Epoch 92: train loss 0.007508770562708378\n",
            "Epoch 93: train loss 0.007104810327291489\n",
            "Epoch 94: train loss 0.006178133189678192\n",
            "Epoch 95: train loss 0.006763579323887825\n",
            "Epoch 96: train loss 0.006363300606608391\n",
            "Epoch 97: train loss 0.005965411197394133\n",
            "Epoch 98: train loss 0.006369208917021751\n",
            "Epoch 99: train loss 0.005730837117880583\n",
            "Epoch 100: train loss 0.005941241513937712\n"
          ]
        },
        {
          "output_type": "execute_result",
          "data": {
            "text/plain": [
              "Text(0.5, 1.0, 'LSTM Autoencoder')"
            ]
          },
          "metadata": {},
          "execution_count": 11
        },
        {
          "output_type": "display_data",
          "data": {
            "image/png": "[encoded data removed]",
            "text/plain": [
              "<Figure size 1440x360 with 1 Axes>"
            ]
          },
          "metadata": {
            "needs_background": "light"
          }
        }
      ]
    },
    {
      "cell_type": "code",
      "metadata": {
        "colab": {
          "base_uri": "https://localhost:8080/"
        },
        "id": "ca3CSFQrc65l",
        "outputId": "26c1c15b-e377-4653-b0d7-ab09e41c7399"
      },
      "source": [
        "# LSTM all 100m\n",
        "def train_model(model, train_dataset, n_epochs):\n",
        "  model_out = np.asarray([])\n",
        "  model_in = np.asarray([])\n",
        "  optimizer = torch.optim.Adam(model.parameters(), lr=3e-4)\n",
        "  criterion = nn.MSELoss()\n",
        "  #criterion = nn.L1Loss(reduction='sum').to(device)\n",
        "  history = dict(train=[], val=[])\n",
        "  best_loss = 10000.0\n",
        "  for epoch in range(1, n_epochs + 1):\n",
        "    i = 0\n",
        "    model = model.train()\n",
        "    train_losses = []\n",
        "    for seq_true in train_dataset:\n",
        "      optimizer.zero_grad()\n",
        "      seq_true = seq_true.to(device)\n",
        "      seq_true = seq_true.reshape((1, seq_len, 1))\n",
        "      seq_pred = model(seq_true)\n",
        "      loss = criterion(seq_pred, seq_true)\n",
        "      loss.backward()\n",
        "      optimizer.step()\n",
        "      train_losses.append(loss.item())\n",
        "      if epoch == n_epochs:\n",
        "        model_out = np.concatenate((model_out,np.reshape(seq_pred.cpu().detach().numpy(),(seq_len,))))\n",
        "        model_in=np.concatenate((model_in,np.reshape(seq_true.cpu().numpy(),(seq_len,))))  \n",
        "      i+=1\n",
        "    train_loss = np.mean(train_losses)\n",
        "    history['train'].append(train_loss)\n",
        "    print(f'Epoch {epoch}: train loss {train_loss}')\n",
        "  return model.eval(), history, model_out, model_in\n",
        "\n",
        "model, history, model_out, model_in = train_model(\n",
        "  model,\n",
        "  train_dataset,\n",
        "  n_epochs=6\n",
        ")\n",
        "\n",
        "\n",
        "plt.figure(figsize=[20,5])\n",
        "plt.plot(model_in[:1000],'r')\n",
        "plt.plot(model_out[:1000],'b')\n",
        "plt.legend(['Actual Data','Autoencoder Output'])\n",
        "plt.title('LSTM Autoencoder')"
      ],
      "execution_count": 9,
      "outputs": [
        {
          "output_type": "stream",
          "name": "stdout",
          "text": [
            "3064\n"
          ]
        }
      ]
    },
    {
      "cell_type": "code",
      "metadata": {
        "colab": {
          "base_uri": "https://localhost:8080/",
          "height": 245
        },
        "id": "UDSPK36MduyC",
        "outputId": "40cefa11-b3a0-4265-db92-258e8cc32051"
      },
      "source": [
        "# Test Dataset\n",
        "optimizer = torch.optim.Adam(model.parameters(), lr=3e-4)\n",
        "criterion = nn.MSELoss()\n",
        "\n",
        "seq_true = test_dataset[-1]\n",
        "seq_true = seq_true.to(device)\n",
        "seq_true1 = seq_true.reshape((1, seq_len-1, 1))\n",
        "seq_pred = model(seq_true1)\n",
        "loss = criterion(seq_pred, seq_true)\n",
        "print(loss)\n",
        "\n",
        "plt.figure(figsize=(20,5))\n",
        "plt.plot(seq_true.cpu()[:1000],'r')\n",
        "plt.plot(seq_pred.cpu().detach().numpy()[:1000],'b')\n",
        "plt.legend(['Actual Data','Autoencoder Output'])\n",
        "plt.title('LSTM Autoencoder - Test')"
      ],
      "execution_count": 1,
      "outputs": [
        {
          "output_type": "error",
          "ename": "NameError",
          "evalue": "ignored",
          "traceback": [
            "\u001b[0;31m---------------------------------------------------------------------------\u001b[0m",
            "\u001b[0;31mNameError\u001b[0m                                 Traceback (most recent call last)",
            "\u001b[0;32m<ipython-input-1-8898493eebf5>\u001b[0m in \u001b[0;36m<module>\u001b[0;34m()\u001b[0m\n\u001b[1;32m      1\u001b[0m \u001b[0;31m# Test Dataset\u001b[0m\u001b[0;34m\u001b[0m\u001b[0;34m\u001b[0m\u001b[0;34m\u001b[0m\u001b[0m\n\u001b[0;32m----> 2\u001b[0;31m \u001b[0moptimizer\u001b[0m \u001b[0;34m=\u001b[0m \u001b[0mtorch\u001b[0m\u001b[0;34m.\u001b[0m\u001b[0moptim\u001b[0m\u001b[0;34m.\u001b[0m\u001b[0mAdam\u001b[0m\u001b[0;34m(\u001b[0m\u001b[0mmodel\u001b[0m\u001b[0;34m.\u001b[0m\u001b[0mparameters\u001b[0m\u001b[0;34m(\u001b[0m\u001b[0;34m)\u001b[0m\u001b[0;34m,\u001b[0m \u001b[0mlr\u001b[0m\u001b[0;34m=\u001b[0m\u001b[0;36m3e-4\u001b[0m\u001b[0;34m)\u001b[0m\u001b[0;34m\u001b[0m\u001b[0;34m\u001b[0m\u001b[0m\n\u001b[0m\u001b[1;32m      3\u001b[0m \u001b[0mcriterion\u001b[0m \u001b[0;34m=\u001b[0m \u001b[0mnn\u001b[0m\u001b[0;34m.\u001b[0m\u001b[0mMSELoss\u001b[0m\u001b[0;34m(\u001b[0m\u001b[0;34m)\u001b[0m\u001b[0;34m\u001b[0m\u001b[0;34m\u001b[0m\u001b[0m\n\u001b[1;32m      4\u001b[0m \u001b[0;34m\u001b[0m\u001b[0m\n\u001b[1;32m      5\u001b[0m \u001b[0mseq_true\u001b[0m \u001b[0;34m=\u001b[0m \u001b[0mtest_dataset\u001b[0m\u001b[0;34m[\u001b[0m\u001b[0;34m-\u001b[0m\u001b[0;36m1\u001b[0m\u001b[0;34m]\u001b[0m\u001b[0;34m\u001b[0m\u001b[0;34m\u001b[0m\u001b[0m\n",
            "\u001b[0;31mNameError\u001b[0m: name 'torch' is not defined"
          ]
        }
      ]
    },
    {
      "cell_type": "code",
      "metadata": {
        "colab": {
          "base_uri": "https://localhost:8080/"
        },
        "id": "mqXFAKN1fSMV",
        "outputId": "f38a2b32-254d-46b1-a4bd-06b417c696f8"
      },
      "source": [
        "# LSTM\n",
        "device = torch.device(\"cuda\" if torch.cuda.is_available() else \"cpu\")\n",
        "class Encoder(nn.Module):\n",
        "  def __init__(self, seq_len, n_features, embedding_dim=64):\n",
        "    super(Encoder, self).__init__()\n",
        "    self.seq_len, self.n_features = seq_len, n_features\n",
        "    self.embedding_dim, self.hidden_dim = embedding_dim, 2 * embedding_dim\n",
        "    self.rnn1 = nn.LSTM(\n",
        "      input_size=n_features,\n",
        "      hidden_size=self.hidden_dim,\n",
        "      num_layers=1,\n",
        "      batch_first=True\n",
        "    )\n",
        "    self.rnn2 = nn.LSTM(\n",
        "      input_size=self.hidden_dim,\n",
        "      hidden_size=embedding_dim,\n",
        "      num_layers=1,\n",
        "      batch_first=True\n",
        "    )\n",
        "  def forward(self, x):\n",
        "    # print(self.seq_len, self.n_features, self.embedding_dim, self.hidden_dim)\n",
        "    x, (_, _) = self.rnn1(x)\n",
        "    x, (hidden_n, _) = self.rnn2(x)\n",
        "    return hidden_n.reshape((self.n_features, self.embedding_dim,1))\n",
        "\n",
        "\n",
        "class Decoder(nn.Module):\n",
        "  def __init__(self, seq_len, input_dim=64, n_features=1):\n",
        "    super(Decoder, self).__init__()\n",
        "    self.seq_len, self.input_dim = seq_len, input_dim\n",
        "    self.hidden_dim, self.n_features = 2 * input_dim, n_features\n",
        "    self.rnn1 = nn.LSTM(\n",
        "      input_size=input_dim,\n",
        "      hidden_size=input_dim,\n",
        "      num_layers=1,\n",
        "      batch_first=True\n",
        "    )\n",
        "    self.rnn2 = nn.LSTM(\n",
        "      input_size=input_dim,\n",
        "      hidden_size=self.hidden_dim,\n",
        "      num_layers=1,\n",
        "      batch_first=True\n",
        "    )\n",
        "    self.output_layer = nn.Linear(self.hidden_dim, n_features)\n",
        "  def forward(self, x):\n",
        "    x, (hidden_n, cell_n) = self.rnn1(x)\n",
        "    x, (hidden_n, cell_n) = self.rnn2(x)\n",
        "    x = x.reshape((self.seq_len, self.hidden_dim))\n",
        "    return self.output_layer(x)\n",
        "\n",
        "class RecurrentAutoencoder(nn.Module):\n",
        "  def __init__(self, seq_len, n_features, embedding_dim=64):\n",
        "    super(RecurrentAutoencoder, self).__init__()\n",
        "    self.encoder = Encoder(seq_len, n_features, embedding_dim).to(device)\n",
        "    self.decoder = Decoder(seq_len, embedding_dim, n_features).to(device)\n",
        "  def forward(self, x):\n",
        "    print(x.size())\n",
        "    x = self.encoder(x)\n",
        "    print(x.size())\n",
        "    x = self.decoder(x)\n",
        "    return x\n",
        "\n",
        "LEARNING_RATE = 3e-4\n",
        "criterion = nn.MSELoss()   #<-- Your code here.   \n",
        "\n",
        "BATCH_SIZE = 100\n",
        "model = RecurrentAutoencoder(seq_len, n_features, 100)\n",
        "model = model.to(device)\n",
        "print(model)\n",
        "print(device)"
      ],
      "execution_count": 48,
      "outputs": [
        {
          "output_type": "stream",
          "name": "stdout",
          "text": [
            "RecurrentAutoencoder(\n",
            "  (encoder): Encoder(\n",
            "    (rnn1): LSTM(1, 200, batch_first=True)\n",
            "    (rnn2): LSTM(200, 100, batch_first=True)\n",
            "  )\n",
            "  (decoder): Decoder(\n",
            "    (rnn1): LSTM(100, 100, batch_first=True)\n",
            "    (rnn2): LSTM(100, 200, batch_first=True)\n",
            "    (output_layer): Linear(in_features=200, out_features=1, bias=True)\n",
            "  )\n",
            ")\n",
            "cuda\n"
          ]
        }
      ]
    },
    {
      "cell_type": "code",
      "metadata": {
        "colab": {
          "base_uri": "https://localhost:8080/",
          "height": 435
        },
        "id": "QhKSFeCffWmn",
        "outputId": "e8545f84-2275-4ad4-f5b2-e9684c7d54c0"
      },
      "source": [
        "# LSTM 100m\n",
        "        \n",
        "def train_model(model, train_dataset, n_epochs):\n",
        "  optimizer = torch.optim.Adam(model.parameters(), lr=3e-4)\n",
        "  criterion = nn.MSELoss()\n",
        "  history = dict(train=[], val=[])\n",
        "  best_loss = 10000.0\n",
        "  output = []\n",
        "  for epoch in range(1, n_epochs + 1):\n",
        "    model = model.train()\n",
        "    train_losses = []      \n",
        "    optimizer.zero_grad()\n",
        "    seq_true = torch.Tensor(train_np[0,1]).cuda()\n",
        "    seq_true = seq_true.to(device)\n",
        "    seq_true = seq_true.reshape((1, seq_len, 1))\n",
        "    seq_pred = model(seq_true)\n",
        "    loss = criterion(seq_pred, seq_true)\n",
        "    loss.backward()\n",
        "    optimizer.step()\n",
        "    train_losses.append(loss.item())\n",
        "    train_loss = np.mean(train_losses)\n",
        "    history['train'].append(train_loss)\n",
        "    print(f'Epoch {epoch}: train loss {train_loss}')\n",
        "    if(epoch == n_epochs):\n",
        "      output.append(seq_pred.cpu().detach().numpy())\n",
        "  return model.eval(), history, output\n",
        "\n",
        "model, history, pred = train_model(\n",
        "  model,\n",
        "  train_dataset,\n",
        "  n_epochs=100\n",
        ")\n",
        "\n",
        "\n",
        "plt.figure(figsize=[20,5])\n",
        "plt.plot(train_np[0,1][:])\n",
        "plt.plot(pred[0])\n",
        "plt.legend(['Actual Data','Autoencoder Output'])\n",
        "plt.title('LSTM Autoencoder')"
      ],
      "execution_count": 49,
      "outputs": [
        {
          "output_type": "stream",
          "name": "stdout",
          "text": [
            "torch.Size([1, 3065, 1])\n",
            "torch.Size([1, 100, 1])\n"
          ]
        },
        {
          "output_type": "error",
          "ename": "RuntimeError",
          "evalue": "ignored",
          "traceback": [
            "\u001b[0;31m---------------------------------------------------------------------------\u001b[0m",
            "\u001b[0;31mRuntimeError\u001b[0m                              Traceback (most recent call last)",
            "\u001b[0;32m<ipython-input-49-5eb128c7c7a1>\u001b[0m in \u001b[0;36m<module>\u001b[0;34m()\u001b[0m\n\u001b[1;32m     29\u001b[0m   \u001b[0mmodel\u001b[0m\u001b[0;34m,\u001b[0m\u001b[0;34m\u001b[0m\u001b[0;34m\u001b[0m\u001b[0m\n\u001b[1;32m     30\u001b[0m   \u001b[0mtrain_dataset\u001b[0m\u001b[0;34m,\u001b[0m\u001b[0;34m\u001b[0m\u001b[0;34m\u001b[0m\u001b[0m\n\u001b[0;32m---> 31\u001b[0;31m   \u001b[0mn_epochs\u001b[0m\u001b[0;34m=\u001b[0m\u001b[0;36m100\u001b[0m\u001b[0;34m\u001b[0m\u001b[0;34m\u001b[0m\u001b[0m\n\u001b[0m\u001b[1;32m     32\u001b[0m )\n\u001b[1;32m     33\u001b[0m \u001b[0;34m\u001b[0m\u001b[0m\n",
            "\u001b[0;32m<ipython-input-49-5eb128c7c7a1>\u001b[0m in \u001b[0;36mtrain_model\u001b[0;34m(model, train_dataset, n_epochs)\u001b[0m\n\u001b[1;32m     14\u001b[0m     \u001b[0mseq_true\u001b[0m \u001b[0;34m=\u001b[0m \u001b[0mseq_true\u001b[0m\u001b[0;34m.\u001b[0m\u001b[0mto\u001b[0m\u001b[0;34m(\u001b[0m\u001b[0mdevice\u001b[0m\u001b[0;34m)\u001b[0m\u001b[0;34m\u001b[0m\u001b[0;34m\u001b[0m\u001b[0m\n\u001b[1;32m     15\u001b[0m     \u001b[0mseq_true\u001b[0m \u001b[0;34m=\u001b[0m \u001b[0mseq_true\u001b[0m\u001b[0;34m.\u001b[0m\u001b[0mreshape\u001b[0m\u001b[0;34m(\u001b[0m\u001b[0;34m(\u001b[0m\u001b[0;36m1\u001b[0m\u001b[0;34m,\u001b[0m \u001b[0mseq_len\u001b[0m\u001b[0;34m,\u001b[0m \u001b[0;36m1\u001b[0m\u001b[0;34m)\u001b[0m\u001b[0;34m)\u001b[0m\u001b[0;34m\u001b[0m\u001b[0;34m\u001b[0m\u001b[0m\n\u001b[0;32m---> 16\u001b[0;31m     \u001b[0mseq_pred\u001b[0m \u001b[0;34m=\u001b[0m \u001b[0mmodel\u001b[0m\u001b[0;34m(\u001b[0m\u001b[0mseq_true\u001b[0m\u001b[0;34m)\u001b[0m\u001b[0;34m\u001b[0m\u001b[0;34m\u001b[0m\u001b[0m\n\u001b[0m\u001b[1;32m     17\u001b[0m     \u001b[0mloss\u001b[0m \u001b[0;34m=\u001b[0m \u001b[0mcriterion\u001b[0m\u001b[0;34m(\u001b[0m\u001b[0mseq_pred\u001b[0m\u001b[0;34m,\u001b[0m \u001b[0mseq_true\u001b[0m\u001b[0;34m)\u001b[0m\u001b[0;34m\u001b[0m\u001b[0;34m\u001b[0m\u001b[0m\n\u001b[1;32m     18\u001b[0m     \u001b[0mloss\u001b[0m\u001b[0;34m.\u001b[0m\u001b[0mbackward\u001b[0m\u001b[0;34m(\u001b[0m\u001b[0;34m)\u001b[0m\u001b[0;34m\u001b[0m\u001b[0;34m\u001b[0m\u001b[0m\n",
            "\u001b[0;32m/usr/local/lib/python3.7/dist-packages/torch/nn/modules/module.py\u001b[0m in \u001b[0;36m_call_impl\u001b[0;34m(self, *input, **kwargs)\u001b[0m\n\u001b[1;32m   1100\u001b[0m         if not (self._backward_hooks or self._forward_hooks or self._forward_pre_hooks or _global_backward_hooks\n\u001b[1;32m   1101\u001b[0m                 or _global_forward_hooks or _global_forward_pre_hooks):\n\u001b[0;32m-> 1102\u001b[0;31m             \u001b[0;32mreturn\u001b[0m \u001b[0mforward_call\u001b[0m\u001b[0;34m(\u001b[0m\u001b[0;34m*\u001b[0m\u001b[0minput\u001b[0m\u001b[0;34m,\u001b[0m \u001b[0;34m**\u001b[0m\u001b[0mkwargs\u001b[0m\u001b[0;34m)\u001b[0m\u001b[0;34m\u001b[0m\u001b[0;34m\u001b[0m\u001b[0m\n\u001b[0m\u001b[1;32m   1103\u001b[0m         \u001b[0;31m# Do not call functions when jit is used\u001b[0m\u001b[0;34m\u001b[0m\u001b[0;34m\u001b[0m\u001b[0;34m\u001b[0m\u001b[0m\n\u001b[1;32m   1104\u001b[0m         \u001b[0mfull_backward_hooks\u001b[0m\u001b[0;34m,\u001b[0m \u001b[0mnon_full_backward_hooks\u001b[0m \u001b[0;34m=\u001b[0m \u001b[0;34m[\u001b[0m\u001b[0;34m]\u001b[0m\u001b[0;34m,\u001b[0m \u001b[0;34m[\u001b[0m\u001b[0;34m]\u001b[0m\u001b[0;34m\u001b[0m\u001b[0;34m\u001b[0m\u001b[0m\n",
            "\u001b[0;32m<ipython-input-48-3454efd11c85>\u001b[0m in \u001b[0;36mforward\u001b[0;34m(self, x)\u001b[0m\n\u001b[1;32m     58\u001b[0m     \u001b[0mx\u001b[0m \u001b[0;34m=\u001b[0m \u001b[0mself\u001b[0m\u001b[0;34m.\u001b[0m\u001b[0mencoder\u001b[0m\u001b[0;34m(\u001b[0m\u001b[0mx\u001b[0m\u001b[0;34m)\u001b[0m\u001b[0;34m\u001b[0m\u001b[0;34m\u001b[0m\u001b[0m\n\u001b[1;32m     59\u001b[0m     \u001b[0mprint\u001b[0m\u001b[0;34m(\u001b[0m\u001b[0mx\u001b[0m\u001b[0;34m.\u001b[0m\u001b[0msize\u001b[0m\u001b[0;34m(\u001b[0m\u001b[0;34m)\u001b[0m\u001b[0;34m)\u001b[0m\u001b[0;34m\u001b[0m\u001b[0;34m\u001b[0m\u001b[0m\n\u001b[0;32m---> 60\u001b[0;31m     \u001b[0mx\u001b[0m \u001b[0;34m=\u001b[0m \u001b[0mself\u001b[0m\u001b[0;34m.\u001b[0m\u001b[0mdecoder\u001b[0m\u001b[0;34m(\u001b[0m\u001b[0mx\u001b[0m\u001b[0;34m)\u001b[0m\u001b[0;34m\u001b[0m\u001b[0;34m\u001b[0m\u001b[0m\n\u001b[0m\u001b[1;32m     61\u001b[0m     \u001b[0;32mreturn\u001b[0m \u001b[0mx\u001b[0m\u001b[0;34m\u001b[0m\u001b[0;34m\u001b[0m\u001b[0m\n\u001b[1;32m     62\u001b[0m \u001b[0;34m\u001b[0m\u001b[0m\n",
            "\u001b[0;32m/usr/local/lib/python3.7/dist-packages/torch/nn/modules/module.py\u001b[0m in \u001b[0;36m_call_impl\u001b[0;34m(self, *input, **kwargs)\u001b[0m\n\u001b[1;32m   1100\u001b[0m         if not (self._backward_hooks or self._forward_hooks or self._forward_pre_hooks or _global_backward_hooks\n\u001b[1;32m   1101\u001b[0m                 or _global_forward_hooks or _global_forward_pre_hooks):\n\u001b[0;32m-> 1102\u001b[0;31m             \u001b[0;32mreturn\u001b[0m \u001b[0mforward_call\u001b[0m\u001b[0;34m(\u001b[0m\u001b[0;34m*\u001b[0m\u001b[0minput\u001b[0m\u001b[0;34m,\u001b[0m \u001b[0;34m**\u001b[0m\u001b[0mkwargs\u001b[0m\u001b[0;34m)\u001b[0m\u001b[0;34m\u001b[0m\u001b[0;34m\u001b[0m\u001b[0m\n\u001b[0m\u001b[1;32m   1103\u001b[0m         \u001b[0;31m# Do not call functions when jit is used\u001b[0m\u001b[0;34m\u001b[0m\u001b[0;34m\u001b[0m\u001b[0;34m\u001b[0m\u001b[0m\n\u001b[1;32m   1104\u001b[0m         \u001b[0mfull_backward_hooks\u001b[0m\u001b[0;34m,\u001b[0m \u001b[0mnon_full_backward_hooks\u001b[0m \u001b[0;34m=\u001b[0m \u001b[0;34m[\u001b[0m\u001b[0;34m]\u001b[0m\u001b[0;34m,\u001b[0m \u001b[0;34m[\u001b[0m\u001b[0;34m]\u001b[0m\u001b[0;34m\u001b[0m\u001b[0;34m\u001b[0m\u001b[0m\n",
            "\u001b[0;32m<ipython-input-48-3454efd11c85>\u001b[0m in \u001b[0;36mforward\u001b[0;34m(self, x)\u001b[0m\n\u001b[1;32m     44\u001b[0m     \u001b[0mself\u001b[0m\u001b[0;34m.\u001b[0m\u001b[0moutput_layer\u001b[0m \u001b[0;34m=\u001b[0m \u001b[0mnn\u001b[0m\u001b[0;34m.\u001b[0m\u001b[0mLinear\u001b[0m\u001b[0;34m(\u001b[0m\u001b[0mself\u001b[0m\u001b[0;34m.\u001b[0m\u001b[0mhidden_dim\u001b[0m\u001b[0;34m,\u001b[0m \u001b[0mn_features\u001b[0m\u001b[0;34m)\u001b[0m\u001b[0;34m\u001b[0m\u001b[0;34m\u001b[0m\u001b[0m\n\u001b[1;32m     45\u001b[0m   \u001b[0;32mdef\u001b[0m \u001b[0mforward\u001b[0m\u001b[0;34m(\u001b[0m\u001b[0mself\u001b[0m\u001b[0;34m,\u001b[0m \u001b[0mx\u001b[0m\u001b[0;34m)\u001b[0m\u001b[0;34m:\u001b[0m\u001b[0;34m\u001b[0m\u001b[0;34m\u001b[0m\u001b[0m\n\u001b[0;32m---> 46\u001b[0;31m     \u001b[0mx\u001b[0m\u001b[0;34m,\u001b[0m \u001b[0;34m(\u001b[0m\u001b[0mhidden_n\u001b[0m\u001b[0;34m,\u001b[0m \u001b[0mcell_n\u001b[0m\u001b[0;34m)\u001b[0m \u001b[0;34m=\u001b[0m \u001b[0mself\u001b[0m\u001b[0;34m.\u001b[0m\u001b[0mrnn1\u001b[0m\u001b[0;34m(\u001b[0m\u001b[0mx\u001b[0m\u001b[0;34m)\u001b[0m\u001b[0;34m\u001b[0m\u001b[0;34m\u001b[0m\u001b[0m\n\u001b[0m\u001b[1;32m     47\u001b[0m     \u001b[0mx\u001b[0m\u001b[0;34m,\u001b[0m \u001b[0;34m(\u001b[0m\u001b[0mhidden_n\u001b[0m\u001b[0;34m,\u001b[0m \u001b[0mcell_n\u001b[0m\u001b[0;34m)\u001b[0m \u001b[0;34m=\u001b[0m \u001b[0mself\u001b[0m\u001b[0;34m.\u001b[0m\u001b[0mrnn2\u001b[0m\u001b[0;34m(\u001b[0m\u001b[0mx\u001b[0m\u001b[0;34m)\u001b[0m\u001b[0;34m\u001b[0m\u001b[0;34m\u001b[0m\u001b[0m\n\u001b[1;32m     48\u001b[0m     \u001b[0mx\u001b[0m \u001b[0;34m=\u001b[0m \u001b[0mx\u001b[0m\u001b[0;34m.\u001b[0m\u001b[0mreshape\u001b[0m\u001b[0;34m(\u001b[0m\u001b[0;34m(\u001b[0m\u001b[0mself\u001b[0m\u001b[0;34m.\u001b[0m\u001b[0mseq_len\u001b[0m\u001b[0;34m,\u001b[0m \u001b[0mself\u001b[0m\u001b[0;34m.\u001b[0m\u001b[0mhidden_dim\u001b[0m\u001b[0;34m)\u001b[0m\u001b[0;34m)\u001b[0m\u001b[0;34m\u001b[0m\u001b[0;34m\u001b[0m\u001b[0m\n",
            "\u001b[0;32m/usr/local/lib/python3.7/dist-packages/torch/nn/modules/module.py\u001b[0m in \u001b[0;36m_call_impl\u001b[0;34m(self, *input, **kwargs)\u001b[0m\n\u001b[1;32m   1100\u001b[0m         if not (self._backward_hooks or self._forward_hooks or self._forward_pre_hooks or _global_backward_hooks\n\u001b[1;32m   1101\u001b[0m                 or _global_forward_hooks or _global_forward_pre_hooks):\n\u001b[0;32m-> 1102\u001b[0;31m             \u001b[0;32mreturn\u001b[0m \u001b[0mforward_call\u001b[0m\u001b[0;34m(\u001b[0m\u001b[0;34m*\u001b[0m\u001b[0minput\u001b[0m\u001b[0;34m,\u001b[0m \u001b[0;34m**\u001b[0m\u001b[0mkwargs\u001b[0m\u001b[0;34m)\u001b[0m\u001b[0;34m\u001b[0m\u001b[0;34m\u001b[0m\u001b[0m\n\u001b[0m\u001b[1;32m   1103\u001b[0m         \u001b[0;31m# Do not call functions when jit is used\u001b[0m\u001b[0;34m\u001b[0m\u001b[0;34m\u001b[0m\u001b[0;34m\u001b[0m\u001b[0m\n\u001b[1;32m   1104\u001b[0m         \u001b[0mfull_backward_hooks\u001b[0m\u001b[0;34m,\u001b[0m \u001b[0mnon_full_backward_hooks\u001b[0m \u001b[0;34m=\u001b[0m \u001b[0;34m[\u001b[0m\u001b[0;34m]\u001b[0m\u001b[0;34m,\u001b[0m \u001b[0;34m[\u001b[0m\u001b[0;34m]\u001b[0m\u001b[0;34m\u001b[0m\u001b[0;34m\u001b[0m\u001b[0m\n",
            "\u001b[0;32m/usr/local/lib/python3.7/dist-packages/torch/nn/modules/rnn.py\u001b[0m in \u001b[0;36mforward\u001b[0;34m(self, input, hx)\u001b[0m\n\u001b[1;32m    687\u001b[0m             \u001b[0mhx\u001b[0m \u001b[0;34m=\u001b[0m \u001b[0mself\u001b[0m\u001b[0;34m.\u001b[0m\u001b[0mpermute_hidden\u001b[0m\u001b[0;34m(\u001b[0m\u001b[0mhx\u001b[0m\u001b[0;34m,\u001b[0m \u001b[0msorted_indices\u001b[0m\u001b[0;34m)\u001b[0m\u001b[0;34m\u001b[0m\u001b[0;34m\u001b[0m\u001b[0m\n\u001b[1;32m    688\u001b[0m \u001b[0;34m\u001b[0m\u001b[0m\n\u001b[0;32m--> 689\u001b[0;31m         \u001b[0mself\u001b[0m\u001b[0;34m.\u001b[0m\u001b[0mcheck_forward_args\u001b[0m\u001b[0;34m(\u001b[0m\u001b[0minput\u001b[0m\u001b[0;34m,\u001b[0m \u001b[0mhx\u001b[0m\u001b[0;34m,\u001b[0m \u001b[0mbatch_sizes\u001b[0m\u001b[0;34m)\u001b[0m\u001b[0;34m\u001b[0m\u001b[0;34m\u001b[0m\u001b[0m\n\u001b[0m\u001b[1;32m    690\u001b[0m         \u001b[0;32mif\u001b[0m \u001b[0mbatch_sizes\u001b[0m \u001b[0;32mis\u001b[0m \u001b[0;32mNone\u001b[0m\u001b[0;34m:\u001b[0m\u001b[0;34m\u001b[0m\u001b[0;34m\u001b[0m\u001b[0m\n\u001b[1;32m    691\u001b[0m             result = _VF.lstm(input, hx, self._flat_weights, self.bias, self.num_layers,\n",
            "\u001b[0;32m/usr/local/lib/python3.7/dist-packages/torch/nn/modules/rnn.py\u001b[0m in \u001b[0;36mcheck_forward_args\u001b[0;34m(self, input, hidden, batch_sizes)\u001b[0m\n\u001b[1;32m    630\u001b[0m                            \u001b[0mbatch_sizes\u001b[0m\u001b[0;34m:\u001b[0m \u001b[0mOptional\u001b[0m\u001b[0;34m[\u001b[0m\u001b[0mTensor\u001b[0m\u001b[0;34m]\u001b[0m\u001b[0;34m,\u001b[0m\u001b[0;34m\u001b[0m\u001b[0;34m\u001b[0m\u001b[0m\n\u001b[1;32m    631\u001b[0m                            ):\n\u001b[0;32m--> 632\u001b[0;31m         \u001b[0mself\u001b[0m\u001b[0;34m.\u001b[0m\u001b[0mcheck_input\u001b[0m\u001b[0;34m(\u001b[0m\u001b[0minput\u001b[0m\u001b[0;34m,\u001b[0m \u001b[0mbatch_sizes\u001b[0m\u001b[0;34m)\u001b[0m\u001b[0;34m\u001b[0m\u001b[0;34m\u001b[0m\u001b[0m\n\u001b[0m\u001b[1;32m    633\u001b[0m         self.check_hidden_size(hidden[0], self.get_expected_hidden_size(input, batch_sizes),\n\u001b[1;32m    634\u001b[0m                                'Expected hidden[0] size {}, got {}')\n",
            "\u001b[0;32m/usr/local/lib/python3.7/dist-packages/torch/nn/modules/rnn.py\u001b[0m in \u001b[0;36mcheck_input\u001b[0;34m(self, input, batch_sizes)\u001b[0m\n\u001b[1;32m    205\u001b[0m             raise RuntimeError(\n\u001b[1;32m    206\u001b[0m                 'input.size(-1) must be equal to input_size. Expected {}, got {}'.format(\n\u001b[0;32m--> 207\u001b[0;31m                     self.input_size, input.size(-1)))\n\u001b[0m\u001b[1;32m    208\u001b[0m \u001b[0;34m\u001b[0m\u001b[0m\n\u001b[1;32m    209\u001b[0m     \u001b[0;32mdef\u001b[0m \u001b[0mget_expected_hidden_size\u001b[0m\u001b[0;34m(\u001b[0m\u001b[0mself\u001b[0m\u001b[0;34m,\u001b[0m \u001b[0minput\u001b[0m\u001b[0;34m:\u001b[0m \u001b[0mTensor\u001b[0m\u001b[0;34m,\u001b[0m \u001b[0mbatch_sizes\u001b[0m\u001b[0;34m:\u001b[0m \u001b[0mOptional\u001b[0m\u001b[0;34m[\u001b[0m\u001b[0mTensor\u001b[0m\u001b[0;34m]\u001b[0m\u001b[0;34m)\u001b[0m \u001b[0;34m->\u001b[0m \u001b[0mTuple\u001b[0m\u001b[0;34m[\u001b[0m\u001b[0mint\u001b[0m\u001b[0;34m,\u001b[0m \u001b[0mint\u001b[0m\u001b[0;34m,\u001b[0m \u001b[0mint\u001b[0m\u001b[0;34m]\u001b[0m\u001b[0;34m:\u001b[0m\u001b[0;34m\u001b[0m\u001b[0;34m\u001b[0m\u001b[0m\n",
            "\u001b[0;31mRuntimeError\u001b[0m: input.size(-1) must be equal to input_size. Expected 100, got 1"
          ]
        }
      ]
    }
  ]
}