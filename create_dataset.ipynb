{
  "cells": [
    {
      "cell_type": "code",
      "execution_count": 1,
      "metadata": {
        "id": "ipRW0wRsdPe0"
      },
      "outputs": [],
      "source": [
        "#!pip3 install pickle5\n",
        "import pickle\n",
        "import matplotlib.pyplot as plt\n",
        "import numpy as np\n",
        "import pandas as pd\n",
        "from sklearn.preprocessing import StandardScaler"
      ]
    },
    {
      "cell_type": "code",
      "execution_count": 9,
      "metadata": {
        "colab": {
          "base_uri": "https://localhost:8080/"
        },
        "id": "wfy2-BjgwbX_",
        "outputId": "231c445e-e158-4112-d2b4-4c4af09a0c4f"
      },
      "outputs": [],
      "source": [
        "#from google.colab import drive\n",
        "#drive.mount('/content/drive')\n",
        "#!ls drive/'My Drive'\n",
        "drive_path = 'C:/Users/simon/Nextcloud2/Master/Deep Learning/assignment/'\n",
        "data_0_path = drive_path + \"data_0.pickle\"\n",
        "data_1_path = drive_path + \"data_1.pickle\"\n",
        "\n",
        "with open(data_0_path, \"rb\") as fh:\n",
        "  data = pickle.load(fh)"
      ]
    },
    {
      "cell_type": "code",
      "execution_count": 3,
      "metadata": {
        "colab": {
          "base_uri": "https://localhost:8080/",
          "height": 284
        },
        "id": "5FLcL9RXxyEY",
        "outputId": "88e168c0-d545-47f7-aff3-569082f97a47"
      },
      "outputs": [],
      "source": [
        "with open(data_0_path, \"rb\") as fh:\n",
        "  data2 = pickle.load(fh)\n",
        "\n",
        "data = data.append(data2,ignore_index=True,verify_integrity=True)"
      ]
    },
    {
      "cell_type": "code",
      "execution_count": 15,
      "metadata": {
        "id": "JLvGqldTAvDB"
      },
      "outputs": [
        {
          "name": "stdout",
          "output_type": "stream",
          "text": [
            "Current row acceleration: 0\n",
            "Current row acceleration: 200\n",
            "Current row acceleration: 400\n",
            "Current row acceleration: 600\n",
            "Current row acceleration: 800\n",
            "Current row acceleration: 1000\n",
            "Current row acceleration: 1200\n",
            "Current row acceleration: 1400\n",
            "Current row acceleration: 1600\n",
            "Current row acceleration: 1800\n",
            "Current row acceleration: 2000\n",
            "Current row acceleration: 2200\n",
            "Current row speed: 0\n",
            "Current row speed: 200\n",
            "Current row speed: 400\n",
            "Current row speed: 600\n",
            "Current row speed: 800\n",
            "Current row speed: 1000\n",
            "Current row speed: 1200\n",
            "Current row speed: 1400\n",
            "Current row speed: 1600\n",
            "Current row speed: 1800\n",
            "Current row speed: 2000\n",
            "Current row speed: 2200\n",
            "Fitting scaler\n",
            "transforming data with standard scaler\n",
            "transforming data type to np.array\n"
          ]
        }
      ],
      "source": [
        "z_acc=list()\n",
        "speeds = list()\n",
        "df_clean = pd.DataFrame(columns=[\"z\",\"v\"])\n",
        "\n",
        "for d in data[\"GM.acc.xyz.z\"]:\n",
        "    z_acc.append(d.shape)\n",
        "    \n",
        "for d in data[\"GM.obd.spd_veh.value\"]:\n",
        "    speeds.append(d.shape)\n",
        "    \n",
        "speeds = np.array(speeds)\n",
        "z_acc = np.array(z_acc)\n",
        "k=0\n",
        "\n",
        "all_accs, all_speeds = [],[]\n",
        "l_mean = int(z_acc.mean())\n",
        "speed_mean = int(np.array(speeds).mean())\n",
        "inds_counter = []\n",
        "\n",
        "for i in range(data[\"GM.acc.xyz.z\"].shape[0]):\n",
        "    if i%200==0:\n",
        "        print(\"Current row acceleration: {}\".format(i))\n",
        "    if data[\"GM.obd.spd_veh.value\"].iloc[i].mean()>1:\n",
        "        xyz_acc_z = data.iloc[i][\"GM.acc.xyz.z\"]\n",
        "        xyz_acc_z_list = list(xyz_acc_z)\n",
        "        if xyz_acc_z.shape < l_mean+z_acc.std()/2 and xyz_acc_z.shape > l_mean-z_acc.std()/2:\n",
        "            if xyz_acc_z.shape[0]>l_mean:\n",
        "                for d in np.random.randint(0,l_mean,abs(l_mean-xyz_acc_z.shape[0])):\n",
        "                    del xyz_acc_z_list[d]\n",
        "                inds_counter.append(1)\n",
        "                    \n",
        "            elif xyz_acc_z.shape[0] < l_mean:\n",
        "                while len(xyz_acc_z_list)!=l_mean:\n",
        "                    r = np.random.randint(2,xyz_acc_z.shape[0]-2)\n",
        "                    m = np.array(xyz_acc_z_list[r-2:r+2]).mean()\n",
        "                    xyz_acc_z_list.insert(r,m)\n",
        "                inds_counter.append(1)\n",
        "            else:\n",
        "                inds_counter.append(0)\n",
        "                \n",
        "            k+=1\n",
        "            all_accs.append(xyz_acc_z_list)\n",
        "            \n",
        "        else:\n",
        "            inds_counter.append(0)\n",
        "    else:\n",
        "        inds_counter.append(0)\n",
        "                \n",
        "            \n",
        "for i in range(data[\"GM.obd.spd_veh.value\"].shape[0]):\n",
        "    if i%200==0:\n",
        "        print(\"Current row speed: {}\".format(i))\n",
        "\n",
        "    if inds_counter[i]==1:\n",
        "        veh_speed = data[\"GM.obd.spd_veh.value\"].iloc[i]\n",
        "        veh_speed_list = list(veh_speed)\n",
        "        if veh_speed.shape[0]>speed_mean:\n",
        "            for d in np.random.randint(0,speed_mean-1,abs(speed_mean-veh_speed.shape[0])):\n",
        "                del veh_speed_list[d]\n",
        "        \n",
        "        if veh_speed.shape[0]<speed_mean:\n",
        "            while len(veh_speed_list)!=speed_mean:\n",
        "                if veh_speed.shape[0]>3:\n",
        "                    r = np.random.randint(2,veh_speed.shape[0]-2)\n",
        "                    m = np.array(veh_speed_list[r-2:r+2]).mean()\n",
        "                else:\n",
        "                    r = veh_speed.shape[0]//2\n",
        "                    m = veh_speed.mean()\n",
        "                veh_speed_list.insert(r,m)\n",
        "                \n",
        "        k+=1\n",
        "        all_speeds.append(veh_speed_list)\n",
        "        \n",
        "all_speeds_smooth = []\n",
        "for v in all_speeds:\n",
        "    v = np.convolve(np.array(v),np.ones(7)/7,\"valid\")\n",
        "    all_speeds_smooth.append(v)\n",
        "\n",
        "all_accs_smooth = []\n",
        "for z in all_accs:\n",
        "    z = np.convolve(np.array(z),np.ones(21)/21,\"valid\")\n",
        "    all_accs_smooth.append(z)\n",
        "\n",
        "\n",
        "print(\"Fitting scaler\")\n",
        "scaler_accs = StandardScaler().fit(all_accs)\n",
        "scaler_speeds = StandardScaler().fit(all_speeds)\n",
        "scaler_accs_smooth = StandardScaler().fit(all_accs_smooth)\n",
        "scaler_speeds_smooth = StandardScaler().fit(all_speeds_smooth)\n",
        "\n",
        "print(\"transforming data with standard scaler\")\n",
        "all_accs = scaler_accs.transform(all_accs)\n",
        "all_speeds = scaler_speeds.transform(all_speeds)\n",
        "all_accs_smooth = scaler_accs_smooth.transform(all_accs_smooth)\n",
        "all_speeds_smooth = scaler_speeds_smooth.transform(all_speeds_smooth)\n",
        "\n",
        "\n",
        "df_clean[\"v\"] = all_speeds.tolist()\n",
        "df_clean[\"z\"] = all_accs.tolist()\n",
        "df_clean[\"z_smooth\"] = all_accs_smooth.tolist()\n",
        "df_clean[\"v_smooth\"] = all_speeds_smooth.tolist()\n",
        "\n",
        "df_clean[\"IRI_Sequence\"] = data[\"IRI_sequence\"]\n",
        "df_clean[\"IRI_mean\"] = data[\"IRI_mean\"]\n",
        "\n",
        "print(\"transforming data type to np.array\")\n",
        "for i in range(df_clean[\"v\"].shape[0]):\n",
        "    for c in [\"z\",\"v\",\"z_smooth\",\"v_smooth\"]:\n",
        "        df_clean[c].iloc[i] = np.array(df_clean[c].iloc[i])\n",
        "    "
      ]
    },
    {
      "cell_type": "code",
      "execution_count": 11,
      "metadata": {},
      "outputs": [
        {
          "data": {
            "text/plain": [
              "[<matplotlib.lines.Line2D at 0x1d8b2cb7940>]"
            ]
          },
          "execution_count": 11,
          "metadata": {},
          "output_type": "execute_result"
        },
        {
          "data": {
            "image/png": "[encoded data removed]",
            "text/plain": [
              "<Figure size 432x288 with 1 Axes>"
            ]
          },
          "metadata": {
            "needs_background": "light"
          },
          "output_type": "display_data"
        }
      ],
      "source": [
        "plt.plot(df_clean[\"v\"][0],c=\"r\")\n",
        "plt.plot(df_clean[\"v_smooth\"][0],c=\"g\")"
      ]
    },
    {
      "cell_type": "code",
      "execution_count": 17,
      "metadata": {},
      "outputs": [
        {
          "name": "stdout",
          "output_type": "stream",
          "text": [
            "average length of z-acc: 3085.0, std of z-acc: 0.0\n",
            "average length of z-acc: 556.0, std of z-acc: 0.0\n",
            "Rows dropped: (745,)\n"
          ]
        },
        {
          "data": {
            "text/html": [
              "<div>\n",
              "<style scoped>\n",
              "    .dataframe tbody tr th:only-of-type {\n",
              "        vertical-align: middle;\n",
              "    }\n",
              "\n",
              "    .dataframe tbody tr th {\n",
              "        vertical-align: top;\n",
              "    }\n",
              "\n",
              "    .dataframe thead th {\n",
              "        text-align: right;\n",
              "    }\n",
              "</style>\n",
              "<table border=\"1\" class=\"dataframe\">\n",
              "  <thead>\n",
              "    <tr style=\"text-align: right;\">\n",
              "      <th></th>\n",
              "      <th>z</th>\n",
              "      <th>v</th>\n",
              "      <th>z_smooth</th>\n",
              "      <th>v_smooth</th>\n",
              "      <th>IRI_Sequence</th>\n",
              "      <th>IRI_mean</th>\n",
              "    </tr>\n",
              "  </thead>\n",
              "  <tbody>\n",
              "    <tr>\n",
              "      <th>0</th>\n",
              "      <td>[-0.5847926252276651, -0.563005079050583, -0.5...</td>\n",
              "      <td>[-1.3587954164799863, -1.3695510263755228, -1....</td>\n",
              "      <td>[-0.24720147779942403, -0.22350775093934816, -...</td>\n",
              "      <td>[-1.362943270544927, -1.3663861359934661, -1.3...</td>\n",
              "      <td>[6.644882798499999, 5.5573473115, 7.666319952,...</td>\n",
              "      <td>4.93354</td>\n",
              "    </tr>\n",
              "    <tr>\n",
              "      <th>1</th>\n",
              "      <td>[-0.5847926252276651, -0.563005079050583, -0.5...</td>\n",
              "      <td>[-1.5246014975095756, -1.5359615717114699, -1....</td>\n",
              "      <td>[-1.3560408395749142, -1.3940539889090402, -1....</td>\n",
              "      <td>[-1.538313585562642, -1.5407407388997318, -1.5...</td>\n",
              "      <td>[5.5573473115, 7.666319952, 4.1605364705, 5.35...</td>\n",
              "      <td>4.696225</td>\n",
              "    </tr>\n",
              "    <tr>\n",
              "      <th>2</th>\n",
              "      <td>[0.9819588948256633, 0.9642479075833269, 0.983...</td>\n",
              "      <td>[-1.4635150466039373, -1.4637043612366507, -1....</td>\n",
              "      <td>[2.1419716294015787, 2.300206689316816, 2.4618...</td>\n",
              "      <td>[-1.4740261289813823, -1.4711025870769254, -1....</td>\n",
              "      <td>[7.666319952, 4.1605364705, 5.359907053000001,...</td>\n",
              "      <td>4.699145</td>\n",
              "    </tr>\n",
              "    <tr>\n",
              "      <th>3</th>\n",
              "      <td>[0.9819588948256633, 0.9642479075833269, -0.39...</td>\n",
              "      <td>[-0.7184785114512424, -0.7126672947862575, -0....</td>\n",
              "      <td>[0.9894499144161831, 1.0272480307009386, 1.067...</td>\n",
              "      <td>[-0.7046079380830329, -0.7001968014430378, -0....</td>\n",
              "      <td>[4.1605364705, 5.359907053000001, 4.5512844555...</td>\n",
              "      <td>4.397566</td>\n",
              "    </tr>\n",
              "    <tr>\n",
              "      <th>4</th>\n",
              "      <td>[-1.1392905276561773, -0.024786406050078313, -...</td>\n",
              "      <td>[-0.25051266433483554, -0.24518503913856332, -...</td>\n",
              "      <td>[-2.7253851834641094, -2.8242059982791474, -2....</td>\n",
              "      <td>[-0.24313888615883905, -0.2415230944764022, -0...</td>\n",
              "      <td>[5.359907053000001, 4.5512844555, 5.8527534034...</td>\n",
              "      <td>4.400549</td>\n",
              "    </tr>\n",
              "  </tbody>\n",
              "</table>\n",
              "</div>"
            ],
            "text/plain": [
              "                                                   z  \\\n",
              "0  [-0.5847926252276651, -0.563005079050583, -0.5...   \n",
              "1  [-0.5847926252276651, -0.563005079050583, -0.5...   \n",
              "2  [0.9819588948256633, 0.9642479075833269, 0.983...   \n",
              "3  [0.9819588948256633, 0.9642479075833269, -0.39...   \n",
              "4  [-1.1392905276561773, -0.024786406050078313, -...   \n",
              "\n",
              "                                                   v  \\\n",
              "0  [-1.3587954164799863, -1.3695510263755228, -1....   \n",
              "1  [-1.5246014975095756, -1.5359615717114699, -1....   \n",
              "2  [-1.4635150466039373, -1.4637043612366507, -1....   \n",
              "3  [-0.7184785114512424, -0.7126672947862575, -0....   \n",
              "4  [-0.25051266433483554, -0.24518503913856332, -...   \n",
              "\n",
              "                                            z_smooth  \\\n",
              "0  [-0.24720147779942403, -0.22350775093934816, -...   \n",
              "1  [-1.3560408395749142, -1.3940539889090402, -1....   \n",
              "2  [2.1419716294015787, 2.300206689316816, 2.4618...   \n",
              "3  [0.9894499144161831, 1.0272480307009386, 1.067...   \n",
              "4  [-2.7253851834641094, -2.8242059982791474, -2....   \n",
              "\n",
              "                                            v_smooth  \\\n",
              "0  [-1.362943270544927, -1.3663861359934661, -1.3...   \n",
              "1  [-1.538313585562642, -1.5407407388997318, -1.5...   \n",
              "2  [-1.4740261289813823, -1.4711025870769254, -1....   \n",
              "3  [-0.7046079380830329, -0.7001968014430378, -0....   \n",
              "4  [-0.24313888615883905, -0.2415230944764022, -0...   \n",
              "\n",
              "                                        IRI_Sequence  IRI_mean  \n",
              "0  [6.644882798499999, 5.5573473115, 7.666319952,...   4.93354  \n",
              "1  [5.5573473115, 7.666319952, 4.1605364705, 5.35...  4.696225  \n",
              "2  [7.666319952, 4.1605364705, 5.359907053000001,...  4.699145  \n",
              "3  [4.1605364705, 5.359907053000001, 4.5512844555...  4.397566  \n",
              "4  [5.359907053000001, 4.5512844555, 5.8527534034...  4.400549  "
            ]
          },
          "execution_count": 17,
          "metadata": {},
          "output_type": "execute_result"
        }
      ],
      "source": [
        "df_clean.head(5)\n",
        "ls = np.array([df_clean[\"z\"][i].shape for i in range(df_clean[\"z\"].shape[0])])\n",
        "print(\"average length of z-acc: {}, std of z-acc: {}\".format(ls.mean(),ls.std()))\n",
        "ls = np.array([df_clean[\"v\"][i].shape for i in range(df_clean[\"v\"].shape[0])])\n",
        "print(\"average length of z-acc: {}, std of z-acc: {}\".format(ls.mean(),ls.std()))\n",
        "print(\"Rows dropped: {}\".format(np.where(np.array([inds_counter])==0)[0].shape))\n",
        "df_clean.head()"
      ]
    },
    {
      "cell_type": "code",
      "execution_count": 16,
      "metadata": {},
      "outputs": [],
      "source": [
        "from sklearn.model_selection import train_test_split\n",
        "df = pd.DataFrame(columns=[\"train\",\"test\"])\n",
        "\n",
        "train,test = train_test_split(df_clean, test_size=0.1)\n",
        "data_dict = {\"train\":train,\"test\":test}\n",
        "\n",
        "drive_path = 'C:/Users/simon/Nextcloud2/Master/Deep Learning/assignment/'\n",
        "data_0_path = drive_path + \"dataset_smol_boi.pickle\"\n",
        "with open(data_0_path, 'wb') as handle:\n",
        "    pickle.dump(data_dict, handle, protocol=pickle.HIGHEST_PROTOCOL)"
      ]
    }
  ],
  "metadata": {
    "colab": {
      "collapsed_sections": [],
      "name": "Visualization.ipynb",
      "provenance": []
    },
    "interpreter": {
      "hash": "63fd5069d213b44bf678585dea6b12cceca9941eaf7f819626cde1f2670de90d"
    },
    "kernelspec": {
      "display_name": "Python 3.9.4 64-bit",
      "name": "python3"
    },
    "language_info": {
      "codemirror_mode": {
        "name": "ipython",
        "version": 3
      },
      "file_extension": ".py",
      "mimetype": "text/x-python",
      "name": "python",
      "nbconvert_exporter": "python",
      "pygments_lexer": "ipython3",
      "version": "3.9.4"
    }
  },
  "nbformat": 4,
  "nbformat_minor": 2
}
