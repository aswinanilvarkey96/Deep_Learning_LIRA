{
  "nbformat": 4,
  "nbformat_minor": 0,
  "metadata": {
    "colab": {
      "name": "Visualization.ipynb",
      "provenance": [],
      "collapsed_sections": []
    },
    "kernelspec": {
      "name": "python3",
      "display_name": "Python 3"
    },
    "language_info": {
      "name": "python"
    }
  },
  "cells": [
    {
      "cell_type": "code",
      "metadata": {
        "id": "ipRW0wRsdPe0",
        "colab": {
          "base_uri": "https://localhost:8080/",
          "height": 367
        },
        "outputId": "8b0d23d7-859c-4011-d2e9-ddc595d1318e"
      },
      "source": [
        "#!pip3 install pickle5 utm\n",
        "import pickle5 as pickle\n",
        "import matplotlib.pyplot as plt\n",
        "import numpy as np\n",
        "import utm"
      ],
      "execution_count": null,
      "outputs": [
        {
          "output_type": "error",
          "ename": "ModuleNotFoundError",
          "evalue": "ignored",
          "traceback": [
            "\u001b[0;31m---------------------------------------------------------------------------\u001b[0m",
            "\u001b[0;31mModuleNotFoundError\u001b[0m                       Traceback (most recent call last)",
            "\u001b[0;32m<ipython-input-1-ed596689c25e>\u001b[0m in \u001b[0;36m<module>\u001b[0;34m()\u001b[0m\n\u001b[1;32m      1\u001b[0m \u001b[0;31m#!pip3 install pickle5 utm\u001b[0m\u001b[0;34m\u001b[0m\u001b[0;34m\u001b[0m\u001b[0;34m\u001b[0m\u001b[0m\n\u001b[0;32m----> 2\u001b[0;31m \u001b[0;32mimport\u001b[0m \u001b[0mpickle5\u001b[0m \u001b[0;32mas\u001b[0m \u001b[0mpickle\u001b[0m\u001b[0;34m\u001b[0m\u001b[0;34m\u001b[0m\u001b[0m\n\u001b[0m\u001b[1;32m      3\u001b[0m \u001b[0;32mimport\u001b[0m \u001b[0mmatplotlib\u001b[0m\u001b[0;34m.\u001b[0m\u001b[0mpyplot\u001b[0m \u001b[0;32mas\u001b[0m \u001b[0mplt\u001b[0m\u001b[0;34m\u001b[0m\u001b[0;34m\u001b[0m\u001b[0m\n\u001b[1;32m      4\u001b[0m \u001b[0;32mimport\u001b[0m \u001b[0mnumpy\u001b[0m \u001b[0;32mas\u001b[0m \u001b[0mnp\u001b[0m\u001b[0;34m\u001b[0m\u001b[0;34m\u001b[0m\u001b[0m\n\u001b[1;32m      5\u001b[0m \u001b[0;32mimport\u001b[0m \u001b[0mutm\u001b[0m\u001b[0;34m\u001b[0m\u001b[0;34m\u001b[0m\u001b[0m\n",
            "\u001b[0;31mModuleNotFoundError\u001b[0m: No module named 'pickle5'",
            "",
            "\u001b[0;31m---------------------------------------------------------------------------\u001b[0;32m\nNOTE: If your import is failing due to a missing package, you can\nmanually install dependencies using either !pip or !apt.\n\nTo view examples of installing some common dependencies, click the\n\"Open Examples\" button below.\n\u001b[0;31m---------------------------------------------------------------------------\u001b[0m\n"
          ],
          "errorDetails": {
            "actions": [
              {
                "action": "open_url",
                "actionText": "Open Examples",
                "url": "/notebooks/snippets/importing_libraries.ipynb"
              }
            ]
          }
        }
      ]
    },
    {
      "cell_type": "code",
      "metadata": {
        "id": "wfy2-BjgwbX_"
      },
      "source": [
        "from google.colab import drive\n",
        "#drive.mount('/content/drive')\n",
        "#!ls drive/'My Drive'\n",
        "drive_path = 'drive/My Drive/assignment/'\n",
        "data_0_path = drive_path + \"data_0.pickle\"\n",
        "data_1_path = drive_path + \"data_1.pickle\"\n",
        "\n",
        "with open(data_0_path, \"rb\") as fh:\n",
        "  data = pickle.load(fh)\n",
        "\n",
        "with open(data_1_path, \"rb\") as fh:\n",
        "  data1 = pickle.load(fh)"
      ],
      "execution_count": null,
      "outputs": []
    },
    {
      "cell_type": "code",
      "metadata": {
        "id": "CG6OYuOD5ZuA"
      },
      "source": [
        "data"
      ],
      "execution_count": null,
      "outputs": []
    },
    {
      "cell_type": "code",
      "metadata": {
        "id": "5FLcL9RXxyEY"
      },
      "source": [
        "x = data[\"GM.acc.xyz.x\"][0]\n",
        "y = data[\"GM.acc.xyz.y\"][0]\n",
        "z = data[\"GM.acc.xyz.z\"][0]\n",
        "\n",
        "plt.plot(x,\"r\")\n",
        "plt.plot(y,\"g\")\n",
        "plt.plot(z,\"b\")"
      ],
      "execution_count": null,
      "outputs": []
    },
    {
      "cell_type": "code",
      "metadata": {
        "id": "y3iX0lh6zs2c"
      },
      "source": [
        "lats = np.concatenate(data[\"GM.lat_int\"].values).ravel()\n",
        "lons = np.concatenate(data[\"GM.lon_int\"].values).ravel()\n",
        "vels = np.concatenate(data[\"GM.obd.spd_veh.value\"].values).ravel()\n",
        "lats1 = np.concatenate(data1[\"GM.lat_int\"].values).ravel()\n",
        "lons1 = np.concatenate(data1[\"GM.lon_int\"].values).ravel()\n",
        "vels1 = np.concatenate(data1[\"GM.obd.spd_veh.value\"].values).ravel()\n",
        "\n",
        "filter_length = 5\n",
        "vel_smooth = np.convolve(np.array(vels),np.ones(filter_length)/filter_length,\"same\")\n",
        "\n",
        "vels_avg=list()\n",
        "for v in data[\"GM.obd.spd_veh.value\"].values:\n",
        "  vels_avg.append(v.mean())"
      ],
      "execution_count": null,
      "outputs": []
    },
    {
      "cell_type": "code",
      "metadata": {
        "id": "Vpa3sdffnKn1"
      },
      "source": [
        ""
      ],
      "execution_count": null,
      "outputs": []
    },
    {
      "cell_type": "code",
      "metadata": {
        "id": "77jNttzu3J6R"
      },
      "source": [
        "plt.figure(figsize=(12,12))\n",
        "plt.plot(vel_smooth,\"g\")"
      ],
      "execution_count": null,
      "outputs": []
    },
    {
      "cell_type": "code",
      "metadata": {
        "id": "ggeJxwu_74Uc"
      },
      "source": [
        "plt.figure(figsize=(15,15))\n",
        "m, b = np.polyfit(np.array(vels_avg,dtype=np.float),data[\"IRI_mean\"].to_numpy(dtype=np.float), 1)\n",
        "plt.plot(np.array(vels_avg,dtype=np.float), m*np.array(vels_avg,dtype=np.float) + b,\"r\")\n",
        "plt.scatter(vels_avg,data[\"IRI_mean\"].to_numpy(),alpha=0.5)\n",
        "plt.xlabel(\"average velocity\")\n",
        "plt.ylabel(\"IRI mean\")"
      ],
      "execution_count": null,
      "outputs": []
    },
    {
      "cell_type": "code",
      "metadata": {
        "id": "JLvGqldTAvDB"
      },
      "source": [
        "from scipy import optimize\n",
        "\n",
        "method_2 = \"leastsq\"\n",
        "\n",
        "def calc_R(xc, yc):\n",
        "    \"\"\" calculate the distance of each 2D points from the center (xc, yc) \"\"\"\n",
        "    return np.sqrt((x-xc)**2 + (y-yc)**2)\n",
        "\n",
        "def f_2(c):\n",
        "    \"\"\" calculate the algebraic distance between the data points and the mean circle centered at c=(xc, yc) \"\"\"\n",
        "    Ri = calc_R(*c)\n",
        "    return Ri - Ri.mean()\n",
        "\n",
        "def fit_circle(x,y):\n",
        "  x_m = np.mean(x)\n",
        "  y_m = np.mean(y)\n",
        "\n",
        "  center_estimate = x_m, y_m\n",
        "  center_2, ier = optimize.leastsq(f_2, center_estimate)\n",
        "\n",
        "  xc_2, yc_2 = center_2\n",
        "  Ri_2       = calc_R(*center_2)\n",
        "  R_2        = Ri_2.mean()\n",
        "  residu_2   = sum((Ri_2 - R_2)**2)\n",
        "  return R_2, center_2\n",
        "\n",
        "def get_dists(utm_east, utm_north):\n",
        "  c=0\n",
        "  dists = np.zeros(utm_east.shape)\n",
        "  inds = np.zeros(utm_east.shape)\n",
        "\n",
        "  for i in range(utm_east.shape[0]-1):\n",
        "    d = np.linalg.norm((utm_north[i]-utm_north[i+1], utm_east[i]-utm_east[i+1]))\n",
        "    if d>1:\n",
        "      inds[i]=1\n",
        "    if d==0:\n",
        "      inds[i]=2\n",
        "    dists[i] = d\n",
        "  print(\"nm of points with dist greater than 1m: {}, 0m: {}\".format(inds[np.where(inds==1)[0]].sum(),inds[np.where(inds==2)[0]].sum()/2))\n",
        "  return dists, inds\n",
        "\n",
        "\n",
        "def find_min_support_index(utm_east, utm_north,min_support_distance):\n",
        "  dists, inds = get_dists(utm_east,utm_north)\n",
        "  # remove coincident coordinates\n",
        "  dists = dists[np.where(dists!=2)]\n",
        "  support_indexes = [[],[]]\n",
        "  support_lengths = []\n",
        "  curr_dist,start_ind = 0,0\n",
        "\n",
        "  for i in range(dists.shape[0]):\n",
        "    if curr_dist>min_support_distance or inds[i]==1:\n",
        "      support_indexes[0].append(start_ind)\n",
        "      support_indexes[1].append(i)\n",
        "      support_lengths.append(curr_dist)\n",
        "      start_ind = i+1\n",
        "      curr_dist = 0\n",
        "      \n",
        "    curr_dist += dists[i]\n",
        "\n",
        "\n",
        "  return np.array(support_indexes), np.array(support_lengths)\n",
        "\n",
        "def fit_circles_to_track(lats,lons, min_support_distance=20):\n",
        "  stride = 1000\n",
        "  r,c = [],[]\n",
        "  utm_east, utm_north = to_utm(lats,lons)\n",
        "  for i in range(0,utm_north.shape[0],stride):\n",
        "    idx = find_min_support_index(utm_east, utm_north,20, i)\n",
        "    n,e = utm_north[i:idx],utm_east[i:idx]\n",
        "    rt,ct = fit_circle(n,e)\n",
        "    r.append(rt)\n",
        "    c.append(ct)\n",
        "  return np.array(r),np.array(c)\n",
        "\n",
        "def to_utm(lats,lons):\n",
        "  [utm_east, utm_north, utm_zone, utm_letter] = utm.from_latlon(lats,lons)\n",
        "  utm_east -= utm_east.min()\n",
        "  utm_north -= utm_north.min()\n",
        "  return utm_east, utm_north"
      ],
      "execution_count": null,
      "outputs": []
    },
    {
      "cell_type": "code",
      "metadata": {
        "id": "bjggjS2cBR7a"
      },
      "source": [
        "utm_east, utm_north = to_utm(lats,lons)"
      ],
      "execution_count": null,
      "outputs": []
    },
    {
      "cell_type": "code",
      "metadata": {
        "id": "eFLsL_wkSt05"
      },
      "source": [
        "#dists, inds = get_dists(utm_east[::1000],utm_north[::1000])\n",
        "#plt.hist(dists[np.where(inds!=2)[0]],bins=100,range=(0,10))\n",
        "\n"
      ],
      "execution_count": null,
      "outputs": []
    },
    {
      "cell_type": "code",
      "metadata": {
        "id": "Si04S1jPgxhp"
      },
      "source": [
        "support_indexes, support_lengths =  find_min_support_index(utm_east[::100], utm_north[::100],20)\n"
      ],
      "execution_count": null,
      "outputs": []
    },
    {
      "cell_type": "code",
      "metadata": {
        "id": "oyMTZsyNb4l5"
      },
      "source": [
        "plt.hist(support_lengths,bins=100, range=(0,30))"
      ],
      "execution_count": null,
      "outputs": []
    },
    {
      "cell_type": "code",
      "metadata": {
        "id": "HNCK5MaqChMD"
      },
      "source": [
        "utm_east, utm_north = to_utm(lats,lons)\n",
        "\n",
        "fig, ax = plt.subplots()\n",
        "\n",
        "for i in range(r_c.shape[1]):\n",
        "  if r_c[1][i][0] < 8000 :\n",
        "    if r_c[1][i][1] < 8000: \n",
        "      #print(r_c[1][i][0],r_c[1][i][1])\n",
        "      ax.scatter(r_c[1][i][0], r_c[1][i][1],c=\"r\") \n",
        "\n",
        "#ax.scatter(utm_north[::100],utm_east[::100])\n"
      ],
      "execution_count": null,
      "outputs": []
    },
    {
      "cell_type": "code",
      "metadata": {
        "id": "Eg2Ti1oPHVSn"
      },
      "source": [
        "r_c[1].shape"
      ],
      "execution_count": null,
      "outputs": []
    },
    {
      "cell_type": "code",
      "metadata": {
        "id": "EpBzWaIwNmzY"
      },
      "source": [
        "BBox = (np.min(lons),np.max(lons),      \n",
        "         np.min(lats), np.max(lats))\n",
        "\n",
        "track = plt.imread(drive_path + \"map.png\")\n",
        "\n",
        "\n",
        "def get_mean(d):\n",
        "  v_mean = list()\n",
        "  for v in d.values:\n",
        "    v_mean.append(v.mean())\n",
        "  v_mean=np.array(v_mean)\n",
        "\n",
        "  v_mean_scaled=(v_mean-v_mean.mean())/v_mean.std()\n",
        "  v_mean_scaled-=v_mean_scaled.min()\n",
        "  return np.array(v_mean_scaled)**3\n",
        "\n",
        "v_mean = get_mean(data[\"GM.obd.spd_veh.value\"])\n",
        "v_mean1 = get_mean(data1[\"GM.obd.spd_veh.value\"])\n",
        "\n",
        "\n",
        "fig, ax = plt.subplots(figsize=(16, 12))\n",
        "for i in range(data[\"GM.lat_int\"].values.shape[0]):\n",
        "  ax.scatter(data[\"GM.lon_int\"].values[i][::700], data[\"GM.lat_int\"].values[i][::700],\n",
        "             zorder=1, alpha= 0.1, c='b', s=v_mean[i])\n",
        "  \n",
        "for i in range(data1[\"GM.lat_int\"].values.shape[0]):\n",
        "  ax.scatter(data1[\"GM.lon_int\"].values[i][::700], data1[\"GM.lat_int\"].values[i][::700],\n",
        "             zorder=1, alpha= 0.1, c='g', s=v_mean1[i])\n",
        "\n",
        "ax.set_title('Plot of latitute/longitude data (1&2) on Copenhagen map')\n",
        "ax.set_xlim(BBox[0],BBox[1])\n",
        "ax.set_ylim(BBox[2],BBox[3])\n",
        "#ax.legend(\"Blue -> Data 0 \\nGreen -> Data 1\")\n",
        "ax.imshow(track, zorder=0, extent = BBox, aspect= 'auto')"
      ],
      "execution_count": null,
      "outputs": []
    },
    {
      "cell_type": "code",
      "metadata": {
        "id": "0B8EFM7f5ONy"
      },
      "source": [
        ""
      ],
      "execution_count": null,
      "outputs": []
    }
  ]
}